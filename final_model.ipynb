{
  "nbformat": 4,
  "nbformat_minor": 0,
  "metadata": {
    "colab": {
      "name": "final_model.ipynb",
      "provenance": [],
      "mount_file_id": "1MbnoVpllC9Fi0ANbq2v80Vhkf2rZ19yz",
      "authorship_tag": "ABX9TyMsNuWFMpEGTeaKZ1a/U7xg",
      "include_colab_link": true
    },
    "kernelspec": {
      "name": "python3",
      "display_name": "Python 3"
    },
    "accelerator": "GPU"
  },
  "cells": [
    {
      "cell_type": "markdown",
      "metadata": {
        "id": "view-in-github",
        "colab_type": "text"
      },
      "source": [
        "<a href=\"https://colab.research.google.com/github/CaoHaiNam/Content-base-Recommendation-system/blob/master/final_model.ipynb\" target=\"_parent\"><img src=\"https://colab.research.google.com/assets/colab-badge.svg\" alt=\"Open In Colab\"/></a>"
      ]
    },
    {
      "cell_type": "code",
      "metadata": {
        "id": "SKHrlkGun7gZ",
        "colab_type": "code",
        "colab": {}
      },
      "source": [
        "# to import .py module\n",
        "import sys\n",
        "import os\n",
        "py_file_location = \"/content/drive/My Drive/Norm_add_based_recommendation\"\n",
        "sys.path.append(os.path.abspath(py_file_location))"
      ],
      "execution_count": 1,
      "outputs": []
    },
    {
      "cell_type": "code",
      "metadata": {
        "id": "WzK1ZTqIn_0C",
        "colab_type": "code",
        "colab": {}
      },
      "source": [
        "import codecs\n",
        "import json\n",
        "import preprocess\n",
        "import word2vec\n",
        "import numpy as np\n",
        "import theano.tensor as T\n",
        "import keras\n",
        "from keras import backend as K\n",
        "from keras import initializers\n",
        "from keras.models import Sequential, Model, load_model, save_model\n",
        "from keras.layers.core import Dense, Lambda, Activation\n",
        "from keras.layers import Embedding, Input, Dense, merge, Reshape, Concatenate, Flatten, SimpleRNN\n",
        "from keras.optimizers import Adagrad, Adam, SGD, RMSprop\n",
        "from keras.regularizers import l2\n",
        "from time import time\n",
        "import multiprocessing as mp\n",
        "import sys\n",
        "import math\n",
        "import argparse"
      ],
      "execution_count": 2,
      "outputs": []
    },
    {
      "cell_type": "code",
      "metadata": {
        "id": "cdCRUtwBI_PO",
        "colab_type": "code",
        "colab": {
          "base_uri": "https://localhost:8080/",
          "height": 36
        },
        "outputId": "c0cbcc86-aab3-4cbc-83b4-49fd93d73e43"
      },
      "source": [
        "keras.__version__"
      ],
      "execution_count": 8,
      "outputs": [
        {
          "output_type": "execute_result",
          "data": {
            "application/vnd.google.colaboratory.intrinsic+json": {
              "type": "string"
            },
            "text/plain": [
              "'2.4.3'"
            ]
          },
          "metadata": {
            "tags": []
          },
          "execution_count": 8
        }
      ]
    },
    {
      "cell_type": "code",
      "metadata": {
        "id": "WdfvwGlYoBQU",
        "colab_type": "code",
        "colab": {}
      },
      "source": [
        "def get_reshape_model(Embedding_dim):\n",
        "    model = keras.Sequential()\n",
        "    model.add(keras.layers.Reshape((Embedding_dim,), input_shape=(1,Embedding_dim)))\n",
        "    return model"
      ],
      "execution_count": 3,
      "outputs": []
    },
    {
      "cell_type": "code",
      "metadata": {
        "id": "21LHZqologxy",
        "colab_type": "code",
        "colab": {}
      },
      "source": [
        "def get_Neu_model(cell = 41,\n",
        "                  features = 300,\n",
        "                  latent_dim = 20,\n",
        "                  embedding_dim = 20, \n",
        "                  num_street = 1881, \n",
        "                  num_ward = 425,\n",
        "                  num_district = 286,\n",
        "                  num_city = 62,\n",
        "                  layers = [20, 10]):\n",
        "    # reshape model\n",
        "    reshape_model = get_reshape_model(embedding_dim)\n",
        "    num_layers = len(layers)\n",
        "\n",
        "    raw_input           = Input(shape=(cell, features), dtype=np.float32, name='raw_input')\n",
        "    norm_input          = Input(shape=(cell, features), dtype=np.float32, name='norm_input')\n",
        "    norm_street_input   = Input(shape=(1,), dtype=np.float32, name='norm_street')\n",
        "    norm_ward_input     = Input(shape=(1,), dtype=np.float32, name='norm_ward')\n",
        "    norm_district_input = Input(shape=(1,), dtype=np.float32, name='norm_district')\n",
        "    norm_city_input     = Input(shape=(1,), dtype=np.float32, name='norm_city')\n",
        "\n",
        "    # GMF_vector\n",
        "    raw_lstm  = keras.layers.LSTM(latent_dim + 4*embedding_dim)\n",
        "    norm_lstm = keras.layers.LSTM(latent_dim)\n",
        "    # plus 1 in case value of this field is None\n",
        "    Embedding_street   = Embedding(input_dim=num_street,   output_dim=embedding_dim, embeddings_initializer=keras.initializers.random_uniform, input_length=1)\n",
        "    Embedding_ward     = Embedding(input_dim=num_ward,     output_dim=embedding_dim, embeddings_initializer=keras.initializers.random_uniform, input_length=1)\n",
        "    Embedding_district = Embedding(input_dim=num_district, output_dim=embedding_dim, embeddings_initializer=keras.initializers.random_uniform, input_length=1)\n",
        "    Embedding_city     = Embedding(input_dim=num_city,     output_dim=embedding_dim, embeddings_initializer=keras.initializers.random_uniform, input_length=1)\n",
        "\n",
        "    raw_latent = raw_lstm(raw_input)\n",
        "    norm_latent = norm_lstm(norm_input)\n",
        "    street_latent   = reshape_model(Embedding_street(norm_street_input))\n",
        "    ward_latent     = reshape_model(Embedding_ward(norm_street_input))\n",
        "    district_latent = reshape_model(Embedding_district(norm_street_input))\n",
        "    city_latent     = reshape_model(Embedding_city(norm_street_input))\n",
        "    norm_latent = keras.layers.Concatenate()([norm_latent, street_latent, ward_latent, district_latent, city_latent])\n",
        "\n",
        "    # Element-wise product of raw and norm embeddings\n",
        "    GMF_vector = keras.layers.Multiply()([raw_latent, norm_latent])\n",
        "\n",
        "    # MLP_vector\n",
        "    raw_lstm  = keras.layers.LSTM(latent_dim)\n",
        "    norm_lstm = keras.layers.LSTM(latent_dim)\n",
        "    # plus 1 in case value of this field is None\n",
        "    Embedding_street   = Embedding(input_dim=num_street,   output_dim=embedding_dim, embeddings_initializer=keras.initializers.random_uniform, input_length=1)\n",
        "    Embedding_ward     = Embedding(input_dim=num_ward,     output_dim=embedding_dim, embeddings_initializer=keras.initializers.random_uniform, input_length=1)\n",
        "    Embedding_district = Embedding(input_dim=num_district, output_dim=embedding_dim, embeddings_initializer=keras.initializers.random_uniform, input_length=1)\n",
        "    Embedding_city     = Embedding(input_dim=num_city,     output_dim=embedding_dim, embeddings_initializer=keras.initializers.random_uniform, input_length=1)\n",
        "\n",
        "    raw_latent  = raw_lstm(raw_input)\n",
        "    norm_latent = norm_lstm(norm_input)\n",
        "    street_latent   = reshape_model(Embedding_street(norm_street_input))\n",
        "    ward_latent     = reshape_model(Embedding_ward(norm_street_input))\n",
        "    district_latent = reshape_model(Embedding_district(norm_street_input))\n",
        "    city_latent     = reshape_model(Embedding_city(norm_street_input))\n",
        "\n",
        "    # The 0-th layer is the concatenation of embedding layers\n",
        "    MLP_vector = keras.layers.Concatenate()([raw_latent, norm_latent, street_latent, ward_latent, district_latent, city_latent]) \n",
        "    \n",
        "    # MLP layer\n",
        "    for idx in range(num_layers):\n",
        "      layer = Dense(units=layers[idx], activation='relu') \n",
        "      MLP_vector = layer(MLP_vector)\n",
        "\n",
        "    # final prediction vector\n",
        "    predict_vector = keras.layers.Concatenate()([GMF_vector, MLP_vector])\n",
        "\n",
        "    # Final prediction layer\n",
        "    prediction = Dense(1, activation='sigmoid', name = \"prediction\")(predict_vector)\n",
        "\n",
        "    model = keras.models.Model(inputs=[raw_input, norm_input, norm_street_input, norm_ward_input, norm_district_input, norm_city_input], outputs=prediction)\n",
        "    \n",
        "    return model"
      ],
      "execution_count": 9,
      "outputs": []
    },
    {
      "cell_type": "code",
      "metadata": {
        "id": "f8Op2ySqondr",
        "colab_type": "code",
        "colab": {
          "base_uri": "https://localhost:8080/",
          "height": 1000
        },
        "outputId": "1c8c74ce-0dfd-4708-cf8a-a23f2dfa9fea"
      },
      "source": [
        "final_model = get_Neu_model()\n",
        "final_model.summary()"
      ],
      "execution_count": 10,
      "outputs": [
        {
          "output_type": "stream",
          "text": [
            "Model: \"functional_3\"\n",
            "__________________________________________________________________________________________________\n",
            "Layer (type)                    Output Shape         Param #     Connected to                     \n",
            "==================================================================================================\n",
            "norm_street (InputLayer)        [(None, 1)]          0                                            \n",
            "__________________________________________________________________________________________________\n",
            "raw_input (InputLayer)          [(None, 41, 300)]    0                                            \n",
            "__________________________________________________________________________________________________\n",
            "norm_input (InputLayer)         [(None, 41, 300)]    0                                            \n",
            "__________________________________________________________________________________________________\n",
            "embedding_16 (Embedding)        (None, 1, 20)        37620       norm_street[0][0]                \n",
            "__________________________________________________________________________________________________\n",
            "embedding_17 (Embedding)        (None, 1, 20)        8500        norm_street[0][0]                \n",
            "__________________________________________________________________________________________________\n",
            "embedding_18 (Embedding)        (None, 1, 20)        5720        norm_street[0][0]                \n",
            "__________________________________________________________________________________________________\n",
            "embedding_19 (Embedding)        (None, 1, 20)        1240        norm_street[0][0]                \n",
            "__________________________________________________________________________________________________\n",
            "embedding_20 (Embedding)        (None, 1, 20)        37620       norm_street[0][0]                \n",
            "__________________________________________________________________________________________________\n",
            "embedding_21 (Embedding)        (None, 1, 20)        8500        norm_street[0][0]                \n",
            "__________________________________________________________________________________________________\n",
            "embedding_22 (Embedding)        (None, 1, 20)        5720        norm_street[0][0]                \n",
            "__________________________________________________________________________________________________\n",
            "embedding_23 (Embedding)        (None, 1, 20)        1240        norm_street[0][0]                \n",
            "__________________________________________________________________________________________________\n",
            "sequential_2 (Sequential)       (None, 20)           0           embedding_16[0][0]               \n",
            "                                                                 embedding_17[0][0]               \n",
            "                                                                 embedding_18[0][0]               \n",
            "                                                                 embedding_19[0][0]               \n",
            "                                                                 embedding_20[0][0]               \n",
            "                                                                 embedding_21[0][0]               \n",
            "                                                                 embedding_22[0][0]               \n",
            "                                                                 embedding_23[0][0]               \n",
            "__________________________________________________________________________________________________\n",
            "lstm_10 (LSTM)                  (None, 20)           25680       raw_input[0][0]                  \n",
            "__________________________________________________________________________________________________\n",
            "lstm_11 (LSTM)                  (None, 20)           25680       norm_input[0][0]                 \n",
            "__________________________________________________________________________________________________\n",
            "lstm_9 (LSTM)                   (None, 20)           25680       norm_input[0][0]                 \n",
            "__________________________________________________________________________________________________\n",
            "concatenate_5 (Concatenate)     (None, 120)          0           lstm_10[0][0]                    \n",
            "                                                                 lstm_11[0][0]                    \n",
            "                                                                 sequential_2[4][0]               \n",
            "                                                                 sequential_2[5][0]               \n",
            "                                                                 sequential_2[6][0]               \n",
            "                                                                 sequential_2[7][0]               \n",
            "__________________________________________________________________________________________________\n",
            "lstm_8 (LSTM)                   (None, 100)          160400      raw_input[0][0]                  \n",
            "__________________________________________________________________________________________________\n",
            "concatenate_4 (Concatenate)     (None, 100)          0           lstm_9[0][0]                     \n",
            "                                                                 sequential_2[0][0]               \n",
            "                                                                 sequential_2[1][0]               \n",
            "                                                                 sequential_2[2][0]               \n",
            "                                                                 sequential_2[3][0]               \n",
            "__________________________________________________________________________________________________\n",
            "dense_2 (Dense)                 (None, 20)           2420        concatenate_5[0][0]              \n",
            "__________________________________________________________________________________________________\n",
            "multiply_2 (Multiply)           (None, 100)          0           lstm_8[0][0]                     \n",
            "                                                                 concatenate_4[0][0]              \n",
            "__________________________________________________________________________________________________\n",
            "dense_3 (Dense)                 (None, 10)           210         dense_2[0][0]                    \n",
            "__________________________________________________________________________________________________\n",
            "concatenate_6 (Concatenate)     (None, 110)          0           multiply_2[0][0]                 \n",
            "                                                                 dense_3[0][0]                    \n",
            "__________________________________________________________________________________________________\n",
            "norm_ward (InputLayer)          [(None, 1)]          0                                            \n",
            "__________________________________________________________________________________________________\n",
            "norm_district (InputLayer)      [(None, 1)]          0                                            \n",
            "__________________________________________________________________________________________________\n",
            "norm_city (InputLayer)          [(None, 1)]          0                                            \n",
            "__________________________________________________________________________________________________\n",
            "prediction (Dense)              (None, 1)            111         concatenate_6[0][0]              \n",
            "==================================================================================================\n",
            "Total params: 346,341\n",
            "Trainable params: 346,341\n",
            "Non-trainable params: 0\n",
            "__________________________________________________________________________________________________\n"
          ],
          "name": "stdout"
        }
      ]
    },
    {
      "cell_type": "code",
      "metadata": {
        "id": "ZbChrCe_opiG",
        "colab_type": "code",
        "colab": {}
      },
      "source": [
        ""
      ],
      "execution_count": null,
      "outputs": []
    }
  ]
}